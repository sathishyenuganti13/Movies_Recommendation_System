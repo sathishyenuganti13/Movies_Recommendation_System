{
  "metadata": {
    "kernelspec": {
      "language": "python",
      "display_name": "Python 3",
      "name": "python3"
    },
    "language_info": {
      "name": "python",
      "version": "3.10.12",
      "mimetype": "text/x-python",
      "codemirror_mode": {
        "name": "ipython",
        "version": 3
      },
      "pygments_lexer": "ipython3",
      "nbconvert_exporter": "python",
      "file_extension": ".py"
    },
    "kaggle": {
      "accelerator": "none",
      "dataSources": [
        {
          "sourceId": 8842685,
          "sourceType": "datasetVersion",
          "datasetId": 5322047
        }
      ],
      "dockerImageVersionId": 30527,
      "isInternetEnabled": false,
      "language": "python",
      "sourceType": "notebook",
      "isGpuEnabled": false
    },
    "colab": {
      "name": "Movies Recommendation System",
      "provenance": [],
      "include_colab_link": true
    }
  },
  "nbformat_minor": 0,
  "nbformat": 4,
  "cells": [
    {
      "cell_type": "markdown",
      "metadata": {
        "id": "view-in-github",
        "colab_type": "text"
      },
      "source": [
        "<a href=\"https://colab.research.google.com/github/Tayyab7404/Movie-Recommendation-System/blob/main/MovieRecommendationSystem.ipynb\" target=\"_parent\"><img src=\"https://colab.research.google.com/assets/colab-badge.svg\" alt=\"Open In Colab\"/></a>"
      ]
    },
    {
      "cell_type": "markdown",
      "source": [
        "### **Import Library**"
      ],
      "metadata": {
        "id": "FPY3cT7fH4el"
      }
    },
    {
      "cell_type": "code",
      "source": [
        "import pandas as pd\n",
        "import numpy as np"
      ],
      "metadata": {
        "id": "OZBZ7-ZCKelK",
        "execution": {
          "iopub.status.busy": "2024-07-03T04:38:56.124845Z",
          "iopub.execute_input": "2024-07-03T04:38:56.125253Z",
          "iopub.status.idle": "2024-07-03T04:38:56.131689Z",
          "shell.execute_reply.started": "2024-07-03T04:38:56.125222Z",
          "shell.execute_reply": "2024-07-03T04:38:56.130382Z"
        },
        "trusted": true
      },
      "execution_count": 1,
      "outputs": []
    },
    {
      "cell_type": "markdown",
      "source": [
        "### **Import Data**"
      ],
      "metadata": {
        "id": "aQN3fAxrK-d7"
      }
    },
    {
      "cell_type": "code",
      "source": [
        "df = pd.read_csv('Movies Recommendation.csv')\n",
        "df.head()"
      ],
      "metadata": {
        "id": "fE7cMvvPLNTu",
        "execution": {
          "iopub.status.busy": "2024-07-03T04:38:56.155062Z",
          "iopub.execute_input": "2024-07-03T04:38:56.155558Z",
          "iopub.status.idle": "2024-07-03T04:38:56.51821Z",
          "shell.execute_reply.started": "2024-07-03T04:38:56.15551Z",
          "shell.execute_reply": "2024-07-03T04:38:56.516915Z"
        },
        "trusted": true,
        "colab": {
          "base_uri": "https://localhost:8080/",
          "height": 672
        },
        "outputId": "992d8b93-9026-429f-9562-0e89104f7914"
      },
      "execution_count": 3,
      "outputs": [
        {
          "output_type": "execute_result",
          "data": {
            "text/plain": [
              "   Movie_ID      Movie_Title                       Movie_Genre Movie_Language  \\\n",
              "0         1       Four Rooms                      Crime Comedy             en   \n",
              "1         2        Star Wars  Adventure Action Science Fiction             en   \n",
              "2         3     Finding Nemo                  Animation Family             en   \n",
              "3         4     Forrest Gump              Comedy Drama Romance             en   \n",
              "4         5  American Beauty                             Drama             en   \n",
              "\n",
              "   Movie_Budget  Movie_Popularity Movie_Release_Date  Movie_Revenue  \\\n",
              "0       4000000         22.876230         09-12-1995        4300000   \n",
              "1      11000000        126.393695         25-05-1977      775398007   \n",
              "2      94000000         85.688789         30-05-2003      940335536   \n",
              "3      55000000        138.133331         06-07-1994      677945399   \n",
              "4      15000000         80.878605         15-09-1999      356296601   \n",
              "\n",
              "   Movie_Runtime  Movie_Vote  ...  \\\n",
              "0             98         6.5  ...   \n",
              "1            121         8.1  ...   \n",
              "2            100         7.6  ...   \n",
              "3            142         8.2  ...   \n",
              "4            122         7.9  ...   \n",
              "\n",
              "                                      Movie_Homepage  \\\n",
              "0                                                NaN   \n",
              "1  http://www.starwars.com/films/star-wars-episod...   \n",
              "2              http://movies.disney.com/finding-nemo   \n",
              "3                                                NaN   \n",
              "4                      http://www.dreamworks.com/ab/   \n",
              "\n",
              "                                      Movie_Keywords  \\\n",
              "0          hotel new year's eve witch bet hotel room   \n",
              "1        android galaxy hermit death star lightsaber   \n",
              "2  father son relationship harbor underwater fish...   \n",
              "3  vietnam veteran hippie mentally disabled runni...   \n",
              "4  male nudity female nudity adultery midlife cri...   \n",
              "\n",
              "                                      Movie_Overview  \\\n",
              "0  It's Ted the Bellhop's first night on the job....   \n",
              "1  Princess Leia is captured and held hostage by ...   \n",
              "2  Nemo, an adventurous young clownfish, is unexp...   \n",
              "3  A man with a low IQ has accomplished great thi...   \n",
              "4  Lester Burnham, a depressed suburban father in...   \n",
              "\n",
              "                              Movie_Production_House  \\\n",
              "0  [{\"name\": \"Miramax Films\", \"id\": 14}, {\"name\":...   \n",
              "1  [{\"name\": \"Lucasfilm\", \"id\": 1}, {\"name\": \"Twe...   \n",
              "2     [{\"name\": \"Pixar Animation Studios\", \"id\": 3}]   \n",
              "3          [{\"name\": \"Paramount Pictures\", \"id\": 4}]   \n",
              "4  [{\"name\": \"DreamWorks SKG\", \"id\": 27}, {\"name\"...   \n",
              "\n",
              "                            Movie_Production_Country  \\\n",
              "0  [{\"iso_3166_1\": \"US\", \"name\": \"United States o...   \n",
              "1  [{\"iso_3166_1\": \"US\", \"name\": \"United States o...   \n",
              "2  [{\"iso_3166_1\": \"US\", \"name\": \"United States o...   \n",
              "3  [{\"iso_3166_1\": \"US\", \"name\": \"United States o...   \n",
              "4  [{\"iso_3166_1\": \"US\", \"name\": \"United States o...   \n",
              "\n",
              "                      Movie_Spoken_Language  \\\n",
              "0  [{\"iso_639_1\": \"en\", \"name\": \"English\"}]   \n",
              "1  [{\"iso_639_1\": \"en\", \"name\": \"English\"}]   \n",
              "2  [{\"iso_639_1\": \"en\", \"name\": \"English\"}]   \n",
              "3  [{\"iso_639_1\": \"en\", \"name\": \"English\"}]   \n",
              "4  [{\"iso_639_1\": \"en\", \"name\": \"English\"}]   \n",
              "\n",
              "                                       Movie_Tagline  \\\n",
              "0  Twelve outrageous guests. Four scandalous requ...   \n",
              "1       A long time ago in a galaxy far, far away...   \n",
              "2  There are 3.7 trillion fish in the ocean, they...   \n",
              "3  The world will never be the same, once you've ...   \n",
              "4                                       Look closer.   \n",
              "\n",
              "                                          Movie_Cast  \\\n",
              "0  Tim Roth Antonio Banderas Jennifer Beals Madon...   \n",
              "1  Mark Hamill Harrison Ford Carrie Fisher Peter ...   \n",
              "2  Albert Brooks Ellen DeGeneres Alexander Gould ...   \n",
              "3  Tom Hanks Robin Wright Gary Sinise Mykelti Wil...   \n",
              "4  Kevin Spacey Annette Bening Thora Birch Wes Be...   \n",
              "\n",
              "                                          Movie_Crew   Movie_Director  \n",
              "0  [{'name': 'Allison Anders', 'gender': 1, 'depa...   Allison Anders  \n",
              "1  [{'name': 'George Lucas', 'gender': 2, 'depart...     George Lucas  \n",
              "2  [{'name': 'Andrew Stanton', 'gender': 2, 'depa...   Andrew Stanton  \n",
              "3  [{'name': 'Alan Silvestri', 'gender': 2, 'depa...  Robert Zemeckis  \n",
              "4  [{'name': 'Thomas Newman', 'gender': 2, 'depar...       Sam Mendes  \n",
              "\n",
              "[5 rows x 21 columns]"
            ],
            "text/html": [
              "\n",
              "  <div id=\"df-a5438f0c-3d98-4b80-b8d8-d55116158aac\" class=\"colab-df-container\">\n",
              "    <div>\n",
              "<style scoped>\n",
              "    .dataframe tbody tr th:only-of-type {\n",
              "        vertical-align: middle;\n",
              "    }\n",
              "\n",
              "    .dataframe tbody tr th {\n",
              "        vertical-align: top;\n",
              "    }\n",
              "\n",
              "    .dataframe thead th {\n",
              "        text-align: right;\n",
              "    }\n",
              "</style>\n",
              "<table border=\"1\" class=\"dataframe\">\n",
              "  <thead>\n",
              "    <tr style=\"text-align: right;\">\n",
              "      <th></th>\n",
              "      <th>Movie_ID</th>\n",
              "      <th>Movie_Title</th>\n",
              "      <th>Movie_Genre</th>\n",
              "      <th>Movie_Language</th>\n",
              "      <th>Movie_Budget</th>\n",
              "      <th>Movie_Popularity</th>\n",
              "      <th>Movie_Release_Date</th>\n",
              "      <th>Movie_Revenue</th>\n",
              "      <th>Movie_Runtime</th>\n",
              "      <th>Movie_Vote</th>\n",
              "      <th>...</th>\n",
              "      <th>Movie_Homepage</th>\n",
              "      <th>Movie_Keywords</th>\n",
              "      <th>Movie_Overview</th>\n",
              "      <th>Movie_Production_House</th>\n",
              "      <th>Movie_Production_Country</th>\n",
              "      <th>Movie_Spoken_Language</th>\n",
              "      <th>Movie_Tagline</th>\n",
              "      <th>Movie_Cast</th>\n",
              "      <th>Movie_Crew</th>\n",
              "      <th>Movie_Director</th>\n",
              "    </tr>\n",
              "  </thead>\n",
              "  <tbody>\n",
              "    <tr>\n",
              "      <th>0</th>\n",
              "      <td>1</td>\n",
              "      <td>Four Rooms</td>\n",
              "      <td>Crime Comedy</td>\n",
              "      <td>en</td>\n",
              "      <td>4000000</td>\n",
              "      <td>22.876230</td>\n",
              "      <td>09-12-1995</td>\n",
              "      <td>4300000</td>\n",
              "      <td>98</td>\n",
              "      <td>6.5</td>\n",
              "      <td>...</td>\n",
              "      <td>NaN</td>\n",
              "      <td>hotel new year's eve witch bet hotel room</td>\n",
              "      <td>It's Ted the Bellhop's first night on the job....</td>\n",
              "      <td>[{\"name\": \"Miramax Films\", \"id\": 14}, {\"name\":...</td>\n",
              "      <td>[{\"iso_3166_1\": \"US\", \"name\": \"United States o...</td>\n",
              "      <td>[{\"iso_639_1\": \"en\", \"name\": \"English\"}]</td>\n",
              "      <td>Twelve outrageous guests. Four scandalous requ...</td>\n",
              "      <td>Tim Roth Antonio Banderas Jennifer Beals Madon...</td>\n",
              "      <td>[{'name': 'Allison Anders', 'gender': 1, 'depa...</td>\n",
              "      <td>Allison Anders</td>\n",
              "    </tr>\n",
              "    <tr>\n",
              "      <th>1</th>\n",
              "      <td>2</td>\n",
              "      <td>Star Wars</td>\n",
              "      <td>Adventure Action Science Fiction</td>\n",
              "      <td>en</td>\n",
              "      <td>11000000</td>\n",
              "      <td>126.393695</td>\n",
              "      <td>25-05-1977</td>\n",
              "      <td>775398007</td>\n",
              "      <td>121</td>\n",
              "      <td>8.1</td>\n",
              "      <td>...</td>\n",
              "      <td>http://www.starwars.com/films/star-wars-episod...</td>\n",
              "      <td>android galaxy hermit death star lightsaber</td>\n",
              "      <td>Princess Leia is captured and held hostage by ...</td>\n",
              "      <td>[{\"name\": \"Lucasfilm\", \"id\": 1}, {\"name\": \"Twe...</td>\n",
              "      <td>[{\"iso_3166_1\": \"US\", \"name\": \"United States o...</td>\n",
              "      <td>[{\"iso_639_1\": \"en\", \"name\": \"English\"}]</td>\n",
              "      <td>A long time ago in a galaxy far, far away...</td>\n",
              "      <td>Mark Hamill Harrison Ford Carrie Fisher Peter ...</td>\n",
              "      <td>[{'name': 'George Lucas', 'gender': 2, 'depart...</td>\n",
              "      <td>George Lucas</td>\n",
              "    </tr>\n",
              "    <tr>\n",
              "      <th>2</th>\n",
              "      <td>3</td>\n",
              "      <td>Finding Nemo</td>\n",
              "      <td>Animation Family</td>\n",
              "      <td>en</td>\n",
              "      <td>94000000</td>\n",
              "      <td>85.688789</td>\n",
              "      <td>30-05-2003</td>\n",
              "      <td>940335536</td>\n",
              "      <td>100</td>\n",
              "      <td>7.6</td>\n",
              "      <td>...</td>\n",
              "      <td>http://movies.disney.com/finding-nemo</td>\n",
              "      <td>father son relationship harbor underwater fish...</td>\n",
              "      <td>Nemo, an adventurous young clownfish, is unexp...</td>\n",
              "      <td>[{\"name\": \"Pixar Animation Studios\", \"id\": 3}]</td>\n",
              "      <td>[{\"iso_3166_1\": \"US\", \"name\": \"United States o...</td>\n",
              "      <td>[{\"iso_639_1\": \"en\", \"name\": \"English\"}]</td>\n",
              "      <td>There are 3.7 trillion fish in the ocean, they...</td>\n",
              "      <td>Albert Brooks Ellen DeGeneres Alexander Gould ...</td>\n",
              "      <td>[{'name': 'Andrew Stanton', 'gender': 2, 'depa...</td>\n",
              "      <td>Andrew Stanton</td>\n",
              "    </tr>\n",
              "    <tr>\n",
              "      <th>3</th>\n",
              "      <td>4</td>\n",
              "      <td>Forrest Gump</td>\n",
              "      <td>Comedy Drama Romance</td>\n",
              "      <td>en</td>\n",
              "      <td>55000000</td>\n",
              "      <td>138.133331</td>\n",
              "      <td>06-07-1994</td>\n",
              "      <td>677945399</td>\n",
              "      <td>142</td>\n",
              "      <td>8.2</td>\n",
              "      <td>...</td>\n",
              "      <td>NaN</td>\n",
              "      <td>vietnam veteran hippie mentally disabled runni...</td>\n",
              "      <td>A man with a low IQ has accomplished great thi...</td>\n",
              "      <td>[{\"name\": \"Paramount Pictures\", \"id\": 4}]</td>\n",
              "      <td>[{\"iso_3166_1\": \"US\", \"name\": \"United States o...</td>\n",
              "      <td>[{\"iso_639_1\": \"en\", \"name\": \"English\"}]</td>\n",
              "      <td>The world will never be the same, once you've ...</td>\n",
              "      <td>Tom Hanks Robin Wright Gary Sinise Mykelti Wil...</td>\n",
              "      <td>[{'name': 'Alan Silvestri', 'gender': 2, 'depa...</td>\n",
              "      <td>Robert Zemeckis</td>\n",
              "    </tr>\n",
              "    <tr>\n",
              "      <th>4</th>\n",
              "      <td>5</td>\n",
              "      <td>American Beauty</td>\n",
              "      <td>Drama</td>\n",
              "      <td>en</td>\n",
              "      <td>15000000</td>\n",
              "      <td>80.878605</td>\n",
              "      <td>15-09-1999</td>\n",
              "      <td>356296601</td>\n",
              "      <td>122</td>\n",
              "      <td>7.9</td>\n",
              "      <td>...</td>\n",
              "      <td>http://www.dreamworks.com/ab/</td>\n",
              "      <td>male nudity female nudity adultery midlife cri...</td>\n",
              "      <td>Lester Burnham, a depressed suburban father in...</td>\n",
              "      <td>[{\"name\": \"DreamWorks SKG\", \"id\": 27}, {\"name\"...</td>\n",
              "      <td>[{\"iso_3166_1\": \"US\", \"name\": \"United States o...</td>\n",
              "      <td>[{\"iso_639_1\": \"en\", \"name\": \"English\"}]</td>\n",
              "      <td>Look closer.</td>\n",
              "      <td>Kevin Spacey Annette Bening Thora Birch Wes Be...</td>\n",
              "      <td>[{'name': 'Thomas Newman', 'gender': 2, 'depar...</td>\n",
              "      <td>Sam Mendes</td>\n",
              "    </tr>\n",
              "  </tbody>\n",
              "</table>\n",
              "<p>5 rows × 21 columns</p>\n",
              "</div>\n",
              "    <div class=\"colab-df-buttons\">\n",
              "\n",
              "  <div class=\"colab-df-container\">\n",
              "    <button class=\"colab-df-convert\" onclick=\"convertToInteractive('df-a5438f0c-3d98-4b80-b8d8-d55116158aac')\"\n",
              "            title=\"Convert this dataframe to an interactive table.\"\n",
              "            style=\"display:none;\">\n",
              "\n",
              "  <svg xmlns=\"http://www.w3.org/2000/svg\" height=\"24px\" viewBox=\"0 -960 960 960\">\n",
              "    <path d=\"M120-120v-720h720v720H120Zm60-500h600v-160H180v160Zm220 220h160v-160H400v160Zm0 220h160v-160H400v160ZM180-400h160v-160H180v160Zm440 0h160v-160H620v160ZM180-180h160v-160H180v160Zm440 0h160v-160H620v160Z\"/>\n",
              "  </svg>\n",
              "    </button>\n",
              "\n",
              "  <style>\n",
              "    .colab-df-container {\n",
              "      display:flex;\n",
              "      gap: 12px;\n",
              "    }\n",
              "\n",
              "    .colab-df-convert {\n",
              "      background-color: #E8F0FE;\n",
              "      border: none;\n",
              "      border-radius: 50%;\n",
              "      cursor: pointer;\n",
              "      display: none;\n",
              "      fill: #1967D2;\n",
              "      height: 32px;\n",
              "      padding: 0 0 0 0;\n",
              "      width: 32px;\n",
              "    }\n",
              "\n",
              "    .colab-df-convert:hover {\n",
              "      background-color: #E2EBFA;\n",
              "      box-shadow: 0px 1px 2px rgba(60, 64, 67, 0.3), 0px 1px 3px 1px rgba(60, 64, 67, 0.15);\n",
              "      fill: #174EA6;\n",
              "    }\n",
              "\n",
              "    .colab-df-buttons div {\n",
              "      margin-bottom: 4px;\n",
              "    }\n",
              "\n",
              "    [theme=dark] .colab-df-convert {\n",
              "      background-color: #3B4455;\n",
              "      fill: #D2E3FC;\n",
              "    }\n",
              "\n",
              "    [theme=dark] .colab-df-convert:hover {\n",
              "      background-color: #434B5C;\n",
              "      box-shadow: 0px 1px 3px 1px rgba(0, 0, 0, 0.15);\n",
              "      filter: drop-shadow(0px 1px 2px rgba(0, 0, 0, 0.3));\n",
              "      fill: #FFFFFF;\n",
              "    }\n",
              "  </style>\n",
              "\n",
              "    <script>\n",
              "      const buttonEl =\n",
              "        document.querySelector('#df-a5438f0c-3d98-4b80-b8d8-d55116158aac button.colab-df-convert');\n",
              "      buttonEl.style.display =\n",
              "        google.colab.kernel.accessAllowed ? 'block' : 'none';\n",
              "\n",
              "      async function convertToInteractive(key) {\n",
              "        const element = document.querySelector('#df-a5438f0c-3d98-4b80-b8d8-d55116158aac');\n",
              "        const dataTable =\n",
              "          await google.colab.kernel.invokeFunction('convertToInteractive',\n",
              "                                                    [key], {});\n",
              "        if (!dataTable) return;\n",
              "\n",
              "        const docLinkHtml = 'Like what you see? Visit the ' +\n",
              "          '<a target=\"_blank\" href=https://colab.research.google.com/notebooks/data_table.ipynb>data table notebook</a>'\n",
              "          + ' to learn more about interactive tables.';\n",
              "        element.innerHTML = '';\n",
              "        dataTable['output_type'] = 'display_data';\n",
              "        await google.colab.output.renderOutput(dataTable, element);\n",
              "        const docLink = document.createElement('div');\n",
              "        docLink.innerHTML = docLinkHtml;\n",
              "        element.appendChild(docLink);\n",
              "      }\n",
              "    </script>\n",
              "  </div>\n",
              "\n",
              "\n",
              "<div id=\"df-aa379458-2bc6-4eab-b6b1-724bae1ae3ac\">\n",
              "  <button class=\"colab-df-quickchart\" onclick=\"quickchart('df-aa379458-2bc6-4eab-b6b1-724bae1ae3ac')\"\n",
              "            title=\"Suggest charts\"\n",
              "            style=\"display:none;\">\n",
              "\n",
              "<svg xmlns=\"http://www.w3.org/2000/svg\" height=\"24px\"viewBox=\"0 0 24 24\"\n",
              "     width=\"24px\">\n",
              "    <g>\n",
              "        <path d=\"M19 3H5c-1.1 0-2 .9-2 2v14c0 1.1.9 2 2 2h14c1.1 0 2-.9 2-2V5c0-1.1-.9-2-2-2zM9 17H7v-7h2v7zm4 0h-2V7h2v10zm4 0h-2v-4h2v4z\"/>\n",
              "    </g>\n",
              "</svg>\n",
              "  </button>\n",
              "\n",
              "<style>\n",
              "  .colab-df-quickchart {\n",
              "      --bg-color: #E8F0FE;\n",
              "      --fill-color: #1967D2;\n",
              "      --hover-bg-color: #E2EBFA;\n",
              "      --hover-fill-color: #174EA6;\n",
              "      --disabled-fill-color: #AAA;\n",
              "      --disabled-bg-color: #DDD;\n",
              "  }\n",
              "\n",
              "  [theme=dark] .colab-df-quickchart {\n",
              "      --bg-color: #3B4455;\n",
              "      --fill-color: #D2E3FC;\n",
              "      --hover-bg-color: #434B5C;\n",
              "      --hover-fill-color: #FFFFFF;\n",
              "      --disabled-bg-color: #3B4455;\n",
              "      --disabled-fill-color: #666;\n",
              "  }\n",
              "\n",
              "  .colab-df-quickchart {\n",
              "    background-color: var(--bg-color);\n",
              "    border: none;\n",
              "    border-radius: 50%;\n",
              "    cursor: pointer;\n",
              "    display: none;\n",
              "    fill: var(--fill-color);\n",
              "    height: 32px;\n",
              "    padding: 0;\n",
              "    width: 32px;\n",
              "  }\n",
              "\n",
              "  .colab-df-quickchart:hover {\n",
              "    background-color: var(--hover-bg-color);\n",
              "    box-shadow: 0 1px 2px rgba(60, 64, 67, 0.3), 0 1px 3px 1px rgba(60, 64, 67, 0.15);\n",
              "    fill: var(--button-hover-fill-color);\n",
              "  }\n",
              "\n",
              "  .colab-df-quickchart-complete:disabled,\n",
              "  .colab-df-quickchart-complete:disabled:hover {\n",
              "    background-color: var(--disabled-bg-color);\n",
              "    fill: var(--disabled-fill-color);\n",
              "    box-shadow: none;\n",
              "  }\n",
              "\n",
              "  .colab-df-spinner {\n",
              "    border: 2px solid var(--fill-color);\n",
              "    border-color: transparent;\n",
              "    border-bottom-color: var(--fill-color);\n",
              "    animation:\n",
              "      spin 1s steps(1) infinite;\n",
              "  }\n",
              "\n",
              "  @keyframes spin {\n",
              "    0% {\n",
              "      border-color: transparent;\n",
              "      border-bottom-color: var(--fill-color);\n",
              "      border-left-color: var(--fill-color);\n",
              "    }\n",
              "    20% {\n",
              "      border-color: transparent;\n",
              "      border-left-color: var(--fill-color);\n",
              "      border-top-color: var(--fill-color);\n",
              "    }\n",
              "    30% {\n",
              "      border-color: transparent;\n",
              "      border-left-color: var(--fill-color);\n",
              "      border-top-color: var(--fill-color);\n",
              "      border-right-color: var(--fill-color);\n",
              "    }\n",
              "    40% {\n",
              "      border-color: transparent;\n",
              "      border-right-color: var(--fill-color);\n",
              "      border-top-color: var(--fill-color);\n",
              "    }\n",
              "    60% {\n",
              "      border-color: transparent;\n",
              "      border-right-color: var(--fill-color);\n",
              "    }\n",
              "    80% {\n",
              "      border-color: transparent;\n",
              "      border-right-color: var(--fill-color);\n",
              "      border-bottom-color: var(--fill-color);\n",
              "    }\n",
              "    90% {\n",
              "      border-color: transparent;\n",
              "      border-bottom-color: var(--fill-color);\n",
              "    }\n",
              "  }\n",
              "</style>\n",
              "\n",
              "  <script>\n",
              "    async function quickchart(key) {\n",
              "      const quickchartButtonEl =\n",
              "        document.querySelector('#' + key + ' button');\n",
              "      quickchartButtonEl.disabled = true;  // To prevent multiple clicks.\n",
              "      quickchartButtonEl.classList.add('colab-df-spinner');\n",
              "      try {\n",
              "        const charts = await google.colab.kernel.invokeFunction(\n",
              "            'suggestCharts', [key], {});\n",
              "      } catch (error) {\n",
              "        console.error('Error during call to suggestCharts:', error);\n",
              "      }\n",
              "      quickchartButtonEl.classList.remove('colab-df-spinner');\n",
              "      quickchartButtonEl.classList.add('colab-df-quickchart-complete');\n",
              "    }\n",
              "    (() => {\n",
              "      let quickchartButtonEl =\n",
              "        document.querySelector('#df-aa379458-2bc6-4eab-b6b1-724bae1ae3ac button');\n",
              "      quickchartButtonEl.style.display =\n",
              "        google.colab.kernel.accessAllowed ? 'block' : 'none';\n",
              "    })();\n",
              "  </script>\n",
              "</div>\n",
              "\n",
              "    </div>\n",
              "  </div>\n"
            ],
            "application/vnd.google.colaboratory.intrinsic+json": {
              "type": "dataframe",
              "variable_name": "df"
            }
          },
          "metadata": {},
          "execution_count": 3
        }
      ]
    },
    {
      "cell_type": "markdown",
      "source": [
        "### **Describe Data**"
      ],
      "metadata": {
        "id": "9ZKwvopWLt6s"
      }
    },
    {
      "cell_type": "code",
      "source": [
        "df.info()"
      ],
      "metadata": {
        "id": "-uRMEZ43L9tN",
        "outputId": "3354dbc9-135b-4e65-8d57-4bb8fca771b4",
        "execution": {
          "iopub.status.busy": "2024-07-03T04:38:56.519484Z",
          "iopub.execute_input": "2024-07-03T04:38:56.519874Z",
          "iopub.status.idle": "2024-07-03T04:38:56.546062Z",
          "shell.execute_reply.started": "2024-07-03T04:38:56.519823Z",
          "shell.execute_reply": "2024-07-03T04:38:56.544727Z"
        },
        "trusted": true,
        "colab": {
          "base_uri": "https://localhost:8080/"
        }
      },
      "execution_count": 4,
      "outputs": [
        {
          "output_type": "stream",
          "name": "stdout",
          "text": [
            "<class 'pandas.core.frame.DataFrame'>\n",
            "RangeIndex: 425 entries, 0 to 424\n",
            "Data columns (total 21 columns):\n",
            " #   Column                    Non-Null Count  Dtype  \n",
            "---  ------                    --------------  -----  \n",
            " 0   Movie_ID                  425 non-null    int64  \n",
            " 1   Movie_Title               425 non-null    object \n",
            " 2   Movie_Genre               425 non-null    object \n",
            " 3   Movie_Language            425 non-null    object \n",
            " 4   Movie_Budget              425 non-null    int64  \n",
            " 5   Movie_Popularity          425 non-null    float64\n",
            " 6   Movie_Release_Date        425 non-null    object \n",
            " 7   Movie_Revenue             425 non-null    int64  \n",
            " 8   Movie_Runtime             425 non-null    int64  \n",
            " 9   Movie_Vote                425 non-null    float64\n",
            " 10  Movie_Vote_Count          425 non-null    int64  \n",
            " 11  Movie_Homepage            179 non-null    object \n",
            " 12  Movie_Keywords            424 non-null    object \n",
            " 13  Movie_Overview            425 non-null    object \n",
            " 14  Movie_Production_House    425 non-null    object \n",
            " 15  Movie_Production_Country  425 non-null    object \n",
            " 16  Movie_Spoken_Language     425 non-null    object \n",
            " 17  Movie_Tagline             403 non-null    object \n",
            " 18  Movie_Cast                425 non-null    object \n",
            " 19  Movie_Crew                424 non-null    object \n",
            " 20  Movie_Director            422 non-null    object \n",
            "dtypes: float64(2), int64(5), object(14)\n",
            "memory usage: 69.9+ KB\n"
          ]
        }
      ]
    },
    {
      "cell_type": "code",
      "source": [
        "df.shape"
      ],
      "metadata": {
        "execution": {
          "iopub.status.busy": "2024-07-03T04:38:56.54915Z",
          "iopub.execute_input": "2024-07-03T04:38:56.550249Z",
          "iopub.status.idle": "2024-07-03T04:38:56.558314Z",
          "shell.execute_reply.started": "2024-07-03T04:38:56.55021Z",
          "shell.execute_reply": "2024-07-03T04:38:56.557123Z"
        },
        "trusted": true,
        "colab": {
          "base_uri": "https://localhost:8080/"
        },
        "id": "FzRYaDRr7KvN",
        "outputId": "7f69f556-dc2b-4263-957b-1e2e188d507d"
      },
      "execution_count": 5,
      "outputs": [
        {
          "output_type": "execute_result",
          "data": {
            "text/plain": [
              "(425, 21)"
            ]
          },
          "metadata": {},
          "execution_count": 5
        }
      ]
    },
    {
      "cell_type": "code",
      "source": [
        "df.columns"
      ],
      "metadata": {
        "execution": {
          "iopub.status.busy": "2024-07-03T04:38:56.559761Z",
          "iopub.execute_input": "2024-07-03T04:38:56.560077Z",
          "iopub.status.idle": "2024-07-03T04:38:56.571578Z",
          "shell.execute_reply.started": "2024-07-03T04:38:56.560051Z",
          "shell.execute_reply": "2024-07-03T04:38:56.570508Z"
        },
        "trusted": true,
        "colab": {
          "base_uri": "https://localhost:8080/"
        },
        "id": "BGScpKnh7KvN",
        "outputId": "735734f8-cc44-4d33-cfa8-bd0c26824263"
      },
      "execution_count": 6,
      "outputs": [
        {
          "output_type": "execute_result",
          "data": {
            "text/plain": [
              "Index(['Movie_ID', 'Movie_Title', 'Movie_Genre', 'Movie_Language',\n",
              "       'Movie_Budget', 'Movie_Popularity', 'Movie_Release_Date',\n",
              "       'Movie_Revenue', 'Movie_Runtime', 'Movie_Vote', 'Movie_Vote_Count',\n",
              "       'Movie_Homepage', 'Movie_Keywords', 'Movie_Overview',\n",
              "       'Movie_Production_House', 'Movie_Production_Country',\n",
              "       'Movie_Spoken_Language', 'Movie_Tagline', 'Movie_Cast', 'Movie_Crew',\n",
              "       'Movie_Director'],\n",
              "      dtype='object')"
            ]
          },
          "metadata": {},
          "execution_count": 6
        }
      ]
    },
    {
      "cell_type": "markdown",
      "source": [
        "### **Get Feature Selection**"
      ],
      "metadata": {
        "id": "it4xOywjM37s"
      }
    },
    {
      "cell_type": "code",
      "source": [
        "df_features = df[['Movie_Genre','Movie_Keywords','Movie_Tagline','Movie_Cast','Movie_Director']].fillna('')"
      ],
      "metadata": {
        "id": "xebbVdpxNGFI",
        "execution": {
          "iopub.status.busy": "2024-07-03T04:38:56.573131Z",
          "iopub.execute_input": "2024-07-03T04:38:56.573452Z",
          "iopub.status.idle": "2024-07-03T04:38:56.588059Z",
          "shell.execute_reply.started": "2024-07-03T04:38:56.573424Z",
          "shell.execute_reply": "2024-07-03T04:38:56.586896Z"
        },
        "trusted": true
      },
      "execution_count": 7,
      "outputs": []
    },
    {
      "cell_type": "markdown",
      "source": [
        "#### selected five existing features to recommend movies.It may vary from one project to another.Like one can add vote counts,budget,language etc."
      ],
      "metadata": {
        "id": "Z-yK_5RtQLc7"
      }
    },
    {
      "cell_type": "code",
      "source": [
        "df_features.shape"
      ],
      "metadata": {
        "id": "8yp-aX_tNb5u",
        "outputId": "f8881e8e-15b2-494c-9405-af902399d366",
        "execution": {
          "iopub.status.busy": "2024-07-03T04:38:56.589757Z",
          "iopub.execute_input": "2024-07-03T04:38:56.590124Z",
          "iopub.status.idle": "2024-07-03T04:38:56.605156Z",
          "shell.execute_reply.started": "2024-07-03T04:38:56.590086Z",
          "shell.execute_reply": "2024-07-03T04:38:56.604013Z"
        },
        "trusted": true,
        "colab": {
          "base_uri": "https://localhost:8080/"
        }
      },
      "execution_count": 8,
      "outputs": [
        {
          "output_type": "execute_result",
          "data": {
            "text/plain": [
              "(425, 5)"
            ]
          },
          "metadata": {},
          "execution_count": 8
        }
      ]
    },
    {
      "cell_type": "code",
      "source": [
        "df_features"
      ],
      "metadata": {
        "id": "zqJFq8OhNhXC",
        "outputId": "bc4bbf5f-248d-4348-fb36-08e3cde73041",
        "execution": {
          "iopub.status.busy": "2024-07-03T04:38:56.606543Z",
          "iopub.execute_input": "2024-07-03T04:38:56.606993Z",
          "iopub.status.idle": "2024-07-03T04:38:56.62703Z",
          "shell.execute_reply.started": "2024-07-03T04:38:56.606953Z",
          "shell.execute_reply": "2024-07-03T04:38:56.625725Z"
        },
        "trusted": true,
        "colab": {
          "base_uri": "https://localhost:8080/",
          "height": 527
        }
      },
      "execution_count": 9,
      "outputs": [
        {
          "output_type": "execute_result",
          "data": {
            "text/plain": [
              "                           Movie_Genre  \\\n",
              "0                         Crime Comedy   \n",
              "1     Adventure Action Science Fiction   \n",
              "2                     Animation Family   \n",
              "3                 Comedy Drama Romance   \n",
              "4                                Drama   \n",
              "..                                 ...   \n",
              "420                    Horror Thriller   \n",
              "421  Animation Family Comedy Adventure   \n",
              "422                             Comedy   \n",
              "423                   Family Animation   \n",
              "424          Adventure Action Thriller   \n",
              "\n",
              "                                        Movie_Keywords  \\\n",
              "0            hotel new year's eve witch bet hotel room   \n",
              "1          android galaxy hermit death star lightsaber   \n",
              "2    father son relationship harbor underwater fish...   \n",
              "3    vietnam veteran hippie mentally disabled runni...   \n",
              "4    male nudity female nudity adultery midlife cri...   \n",
              "..                                                 ...   \n",
              "420     female nudity nudity mask babysitter halloween   \n",
              "421      mammoth sloth ice age barrier ice ice melting   \n",
              "422  crime fighter cook drug dealer dying and death...   \n",
              "423            lion hippopotamus giraffe penguin zebra   \n",
              "424             paris london england spy cia terrorist   \n",
              "\n",
              "                                         Movie_Tagline  \\\n",
              "0    Twelve outrageous guests. Four scandalous requ...   \n",
              "1         A long time ago in a galaxy far, far away...   \n",
              "2    There are 3.7 trillion fish in the ocean, they...   \n",
              "3    The world will never be the same, once you've ...   \n",
              "4                                         Look closer.   \n",
              "..                                                 ...   \n",
              "420                             The Night He Came Home   \n",
              "421                       The Ice age is melting away.   \n",
              "422  Go ahead, you tell him you didn't do your home...   \n",
              "423                         Someone's got a zoo loose.   \n",
              "424                             Expect the Impossible.   \n",
              "\n",
              "                                            Movie_Cast   Movie_Director  \n",
              "0    Tim Roth Antonio Banderas Jennifer Beals Madon...   Allison Anders  \n",
              "1    Mark Hamill Harrison Ford Carrie Fisher Peter ...     George Lucas  \n",
              "2    Albert Brooks Ellen DeGeneres Alexander Gould ...   Andrew Stanton  \n",
              "3    Tom Hanks Robin Wright Gary Sinise Mykelti Wil...  Robert Zemeckis  \n",
              "4    Kevin Spacey Annette Bening Thora Birch Wes Be...       Sam Mendes  \n",
              "..                                                 ...              ...  \n",
              "420  Donald Pleasence Jamie Lee Curtis P.J. Soles N...   John Carpenter  \n",
              "421  Ray Romano John Leguizamo Denis Leary Queen La...  Carlos Saldanha  \n",
              "422  Arnold Schwarzenegger Penelope Ann Miller Pame...     Ivan Reitman  \n",
              "423  Ben Stiller Chris Rock David Schwimmer Jada Pi...     Eric Darnell  \n",
              "424  Tom Cruise Jon Voight Emmanuelle B\\u00e9art He...                   \n",
              "\n",
              "[425 rows x 5 columns]"
            ],
            "text/html": [
              "\n",
              "  <div id=\"df-9f2eea49-05c0-48d2-b5a4-532c643607e9\" class=\"colab-df-container\">\n",
              "    <div>\n",
              "<style scoped>\n",
              "    .dataframe tbody tr th:only-of-type {\n",
              "        vertical-align: middle;\n",
              "    }\n",
              "\n",
              "    .dataframe tbody tr th {\n",
              "        vertical-align: top;\n",
              "    }\n",
              "\n",
              "    .dataframe thead th {\n",
              "        text-align: right;\n",
              "    }\n",
              "</style>\n",
              "<table border=\"1\" class=\"dataframe\">\n",
              "  <thead>\n",
              "    <tr style=\"text-align: right;\">\n",
              "      <th></th>\n",
              "      <th>Movie_Genre</th>\n",
              "      <th>Movie_Keywords</th>\n",
              "      <th>Movie_Tagline</th>\n",
              "      <th>Movie_Cast</th>\n",
              "      <th>Movie_Director</th>\n",
              "    </tr>\n",
              "  </thead>\n",
              "  <tbody>\n",
              "    <tr>\n",
              "      <th>0</th>\n",
              "      <td>Crime Comedy</td>\n",
              "      <td>hotel new year's eve witch bet hotel room</td>\n",
              "      <td>Twelve outrageous guests. Four scandalous requ...</td>\n",
              "      <td>Tim Roth Antonio Banderas Jennifer Beals Madon...</td>\n",
              "      <td>Allison Anders</td>\n",
              "    </tr>\n",
              "    <tr>\n",
              "      <th>1</th>\n",
              "      <td>Adventure Action Science Fiction</td>\n",
              "      <td>android galaxy hermit death star lightsaber</td>\n",
              "      <td>A long time ago in a galaxy far, far away...</td>\n",
              "      <td>Mark Hamill Harrison Ford Carrie Fisher Peter ...</td>\n",
              "      <td>George Lucas</td>\n",
              "    </tr>\n",
              "    <tr>\n",
              "      <th>2</th>\n",
              "      <td>Animation Family</td>\n",
              "      <td>father son relationship harbor underwater fish...</td>\n",
              "      <td>There are 3.7 trillion fish in the ocean, they...</td>\n",
              "      <td>Albert Brooks Ellen DeGeneres Alexander Gould ...</td>\n",
              "      <td>Andrew Stanton</td>\n",
              "    </tr>\n",
              "    <tr>\n",
              "      <th>3</th>\n",
              "      <td>Comedy Drama Romance</td>\n",
              "      <td>vietnam veteran hippie mentally disabled runni...</td>\n",
              "      <td>The world will never be the same, once you've ...</td>\n",
              "      <td>Tom Hanks Robin Wright Gary Sinise Mykelti Wil...</td>\n",
              "      <td>Robert Zemeckis</td>\n",
              "    </tr>\n",
              "    <tr>\n",
              "      <th>4</th>\n",
              "      <td>Drama</td>\n",
              "      <td>male nudity female nudity adultery midlife cri...</td>\n",
              "      <td>Look closer.</td>\n",
              "      <td>Kevin Spacey Annette Bening Thora Birch Wes Be...</td>\n",
              "      <td>Sam Mendes</td>\n",
              "    </tr>\n",
              "    <tr>\n",
              "      <th>...</th>\n",
              "      <td>...</td>\n",
              "      <td>...</td>\n",
              "      <td>...</td>\n",
              "      <td>...</td>\n",
              "      <td>...</td>\n",
              "    </tr>\n",
              "    <tr>\n",
              "      <th>420</th>\n",
              "      <td>Horror Thriller</td>\n",
              "      <td>female nudity nudity mask babysitter halloween</td>\n",
              "      <td>The Night He Came Home</td>\n",
              "      <td>Donald Pleasence Jamie Lee Curtis P.J. Soles N...</td>\n",
              "      <td>John Carpenter</td>\n",
              "    </tr>\n",
              "    <tr>\n",
              "      <th>421</th>\n",
              "      <td>Animation Family Comedy Adventure</td>\n",
              "      <td>mammoth sloth ice age barrier ice ice melting</td>\n",
              "      <td>The Ice age is melting away.</td>\n",
              "      <td>Ray Romano John Leguizamo Denis Leary Queen La...</td>\n",
              "      <td>Carlos Saldanha</td>\n",
              "    </tr>\n",
              "    <tr>\n",
              "      <th>422</th>\n",
              "      <td>Comedy</td>\n",
              "      <td>crime fighter cook drug dealer dying and death...</td>\n",
              "      <td>Go ahead, you tell him you didn't do your home...</td>\n",
              "      <td>Arnold Schwarzenegger Penelope Ann Miller Pame...</td>\n",
              "      <td>Ivan Reitman</td>\n",
              "    </tr>\n",
              "    <tr>\n",
              "      <th>423</th>\n",
              "      <td>Family Animation</td>\n",
              "      <td>lion hippopotamus giraffe penguin zebra</td>\n",
              "      <td>Someone's got a zoo loose.</td>\n",
              "      <td>Ben Stiller Chris Rock David Schwimmer Jada Pi...</td>\n",
              "      <td>Eric Darnell</td>\n",
              "    </tr>\n",
              "    <tr>\n",
              "      <th>424</th>\n",
              "      <td>Adventure Action Thriller</td>\n",
              "      <td>paris london england spy cia terrorist</td>\n",
              "      <td>Expect the Impossible.</td>\n",
              "      <td>Tom Cruise Jon Voight Emmanuelle B\\u00e9art He...</td>\n",
              "      <td></td>\n",
              "    </tr>\n",
              "  </tbody>\n",
              "</table>\n",
              "<p>425 rows × 5 columns</p>\n",
              "</div>\n",
              "    <div class=\"colab-df-buttons\">\n",
              "\n",
              "  <div class=\"colab-df-container\">\n",
              "    <button class=\"colab-df-convert\" onclick=\"convertToInteractive('df-9f2eea49-05c0-48d2-b5a4-532c643607e9')\"\n",
              "            title=\"Convert this dataframe to an interactive table.\"\n",
              "            style=\"display:none;\">\n",
              "\n",
              "  <svg xmlns=\"http://www.w3.org/2000/svg\" height=\"24px\" viewBox=\"0 -960 960 960\">\n",
              "    <path d=\"M120-120v-720h720v720H120Zm60-500h600v-160H180v160Zm220 220h160v-160H400v160Zm0 220h160v-160H400v160ZM180-400h160v-160H180v160Zm440 0h160v-160H620v160ZM180-180h160v-160H180v160Zm440 0h160v-160H620v160Z\"/>\n",
              "  </svg>\n",
              "    </button>\n",
              "\n",
              "  <style>\n",
              "    .colab-df-container {\n",
              "      display:flex;\n",
              "      gap: 12px;\n",
              "    }\n",
              "\n",
              "    .colab-df-convert {\n",
              "      background-color: #E8F0FE;\n",
              "      border: none;\n",
              "      border-radius: 50%;\n",
              "      cursor: pointer;\n",
              "      display: none;\n",
              "      fill: #1967D2;\n",
              "      height: 32px;\n",
              "      padding: 0 0 0 0;\n",
              "      width: 32px;\n",
              "    }\n",
              "\n",
              "    .colab-df-convert:hover {\n",
              "      background-color: #E2EBFA;\n",
              "      box-shadow: 0px 1px 2px rgba(60, 64, 67, 0.3), 0px 1px 3px 1px rgba(60, 64, 67, 0.15);\n",
              "      fill: #174EA6;\n",
              "    }\n",
              "\n",
              "    .colab-df-buttons div {\n",
              "      margin-bottom: 4px;\n",
              "    }\n",
              "\n",
              "    [theme=dark] .colab-df-convert {\n",
              "      background-color: #3B4455;\n",
              "      fill: #D2E3FC;\n",
              "    }\n",
              "\n",
              "    [theme=dark] .colab-df-convert:hover {\n",
              "      background-color: #434B5C;\n",
              "      box-shadow: 0px 1px 3px 1px rgba(0, 0, 0, 0.15);\n",
              "      filter: drop-shadow(0px 1px 2px rgba(0, 0, 0, 0.3));\n",
              "      fill: #FFFFFF;\n",
              "    }\n",
              "  </style>\n",
              "\n",
              "    <script>\n",
              "      const buttonEl =\n",
              "        document.querySelector('#df-9f2eea49-05c0-48d2-b5a4-532c643607e9 button.colab-df-convert');\n",
              "      buttonEl.style.display =\n",
              "        google.colab.kernel.accessAllowed ? 'block' : 'none';\n",
              "\n",
              "      async function convertToInteractive(key) {\n",
              "        const element = document.querySelector('#df-9f2eea49-05c0-48d2-b5a4-532c643607e9');\n",
              "        const dataTable =\n",
              "          await google.colab.kernel.invokeFunction('convertToInteractive',\n",
              "                                                    [key], {});\n",
              "        if (!dataTable) return;\n",
              "\n",
              "        const docLinkHtml = 'Like what you see? Visit the ' +\n",
              "          '<a target=\"_blank\" href=https://colab.research.google.com/notebooks/data_table.ipynb>data table notebook</a>'\n",
              "          + ' to learn more about interactive tables.';\n",
              "        element.innerHTML = '';\n",
              "        dataTable['output_type'] = 'display_data';\n",
              "        await google.colab.output.renderOutput(dataTable, element);\n",
              "        const docLink = document.createElement('div');\n",
              "        docLink.innerHTML = docLinkHtml;\n",
              "        element.appendChild(docLink);\n",
              "      }\n",
              "    </script>\n",
              "  </div>\n",
              "\n",
              "\n",
              "<div id=\"df-b4058ac1-7f35-4ccb-bab6-e06f6c882049\">\n",
              "  <button class=\"colab-df-quickchart\" onclick=\"quickchart('df-b4058ac1-7f35-4ccb-bab6-e06f6c882049')\"\n",
              "            title=\"Suggest charts\"\n",
              "            style=\"display:none;\">\n",
              "\n",
              "<svg xmlns=\"http://www.w3.org/2000/svg\" height=\"24px\"viewBox=\"0 0 24 24\"\n",
              "     width=\"24px\">\n",
              "    <g>\n",
              "        <path d=\"M19 3H5c-1.1 0-2 .9-2 2v14c0 1.1.9 2 2 2h14c1.1 0 2-.9 2-2V5c0-1.1-.9-2-2-2zM9 17H7v-7h2v7zm4 0h-2V7h2v10zm4 0h-2v-4h2v4z\"/>\n",
              "    </g>\n",
              "</svg>\n",
              "  </button>\n",
              "\n",
              "<style>\n",
              "  .colab-df-quickchart {\n",
              "      --bg-color: #E8F0FE;\n",
              "      --fill-color: #1967D2;\n",
              "      --hover-bg-color: #E2EBFA;\n",
              "      --hover-fill-color: #174EA6;\n",
              "      --disabled-fill-color: #AAA;\n",
              "      --disabled-bg-color: #DDD;\n",
              "  }\n",
              "\n",
              "  [theme=dark] .colab-df-quickchart {\n",
              "      --bg-color: #3B4455;\n",
              "      --fill-color: #D2E3FC;\n",
              "      --hover-bg-color: #434B5C;\n",
              "      --hover-fill-color: #FFFFFF;\n",
              "      --disabled-bg-color: #3B4455;\n",
              "      --disabled-fill-color: #666;\n",
              "  }\n",
              "\n",
              "  .colab-df-quickchart {\n",
              "    background-color: var(--bg-color);\n",
              "    border: none;\n",
              "    border-radius: 50%;\n",
              "    cursor: pointer;\n",
              "    display: none;\n",
              "    fill: var(--fill-color);\n",
              "    height: 32px;\n",
              "    padding: 0;\n",
              "    width: 32px;\n",
              "  }\n",
              "\n",
              "  .colab-df-quickchart:hover {\n",
              "    background-color: var(--hover-bg-color);\n",
              "    box-shadow: 0 1px 2px rgba(60, 64, 67, 0.3), 0 1px 3px 1px rgba(60, 64, 67, 0.15);\n",
              "    fill: var(--button-hover-fill-color);\n",
              "  }\n",
              "\n",
              "  .colab-df-quickchart-complete:disabled,\n",
              "  .colab-df-quickchart-complete:disabled:hover {\n",
              "    background-color: var(--disabled-bg-color);\n",
              "    fill: var(--disabled-fill-color);\n",
              "    box-shadow: none;\n",
              "  }\n",
              "\n",
              "  .colab-df-spinner {\n",
              "    border: 2px solid var(--fill-color);\n",
              "    border-color: transparent;\n",
              "    border-bottom-color: var(--fill-color);\n",
              "    animation:\n",
              "      spin 1s steps(1) infinite;\n",
              "  }\n",
              "\n",
              "  @keyframes spin {\n",
              "    0% {\n",
              "      border-color: transparent;\n",
              "      border-bottom-color: var(--fill-color);\n",
              "      border-left-color: var(--fill-color);\n",
              "    }\n",
              "    20% {\n",
              "      border-color: transparent;\n",
              "      border-left-color: var(--fill-color);\n",
              "      border-top-color: var(--fill-color);\n",
              "    }\n",
              "    30% {\n",
              "      border-color: transparent;\n",
              "      border-left-color: var(--fill-color);\n",
              "      border-top-color: var(--fill-color);\n",
              "      border-right-color: var(--fill-color);\n",
              "    }\n",
              "    40% {\n",
              "      border-color: transparent;\n",
              "      border-right-color: var(--fill-color);\n",
              "      border-top-color: var(--fill-color);\n",
              "    }\n",
              "    60% {\n",
              "      border-color: transparent;\n",
              "      border-right-color: var(--fill-color);\n",
              "    }\n",
              "    80% {\n",
              "      border-color: transparent;\n",
              "      border-right-color: var(--fill-color);\n",
              "      border-bottom-color: var(--fill-color);\n",
              "    }\n",
              "    90% {\n",
              "      border-color: transparent;\n",
              "      border-bottom-color: var(--fill-color);\n",
              "    }\n",
              "  }\n",
              "</style>\n",
              "\n",
              "  <script>\n",
              "    async function quickchart(key) {\n",
              "      const quickchartButtonEl =\n",
              "        document.querySelector('#' + key + ' button');\n",
              "      quickchartButtonEl.disabled = true;  // To prevent multiple clicks.\n",
              "      quickchartButtonEl.classList.add('colab-df-spinner');\n",
              "      try {\n",
              "        const charts = await google.colab.kernel.invokeFunction(\n",
              "            'suggestCharts', [key], {});\n",
              "      } catch (error) {\n",
              "        console.error('Error during call to suggestCharts:', error);\n",
              "      }\n",
              "      quickchartButtonEl.classList.remove('colab-df-spinner');\n",
              "      quickchartButtonEl.classList.add('colab-df-quickchart-complete');\n",
              "    }\n",
              "    (() => {\n",
              "      let quickchartButtonEl =\n",
              "        document.querySelector('#df-b4058ac1-7f35-4ccb-bab6-e06f6c882049 button');\n",
              "      quickchartButtonEl.style.display =\n",
              "        google.colab.kernel.accessAllowed ? 'block' : 'none';\n",
              "    })();\n",
              "  </script>\n",
              "</div>\n",
              "\n",
              "  <div id=\"id_5c368717-9506-4213-91d2-43d69330786f\">\n",
              "    <style>\n",
              "      .colab-df-generate {\n",
              "        background-color: #E8F0FE;\n",
              "        border: none;\n",
              "        border-radius: 50%;\n",
              "        cursor: pointer;\n",
              "        display: none;\n",
              "        fill: #1967D2;\n",
              "        height: 32px;\n",
              "        padding: 0 0 0 0;\n",
              "        width: 32px;\n",
              "      }\n",
              "\n",
              "      .colab-df-generate:hover {\n",
              "        background-color: #E2EBFA;\n",
              "        box-shadow: 0px 1px 2px rgba(60, 64, 67, 0.3), 0px 1px 3px 1px rgba(60, 64, 67, 0.15);\n",
              "        fill: #174EA6;\n",
              "      }\n",
              "\n",
              "      [theme=dark] .colab-df-generate {\n",
              "        background-color: #3B4455;\n",
              "        fill: #D2E3FC;\n",
              "      }\n",
              "\n",
              "      [theme=dark] .colab-df-generate:hover {\n",
              "        background-color: #434B5C;\n",
              "        box-shadow: 0px 1px 3px 1px rgba(0, 0, 0, 0.15);\n",
              "        filter: drop-shadow(0px 1px 2px rgba(0, 0, 0, 0.3));\n",
              "        fill: #FFFFFF;\n",
              "      }\n",
              "    </style>\n",
              "    <button class=\"colab-df-generate\" onclick=\"generateWithVariable('df_features')\"\n",
              "            title=\"Generate code using this dataframe.\"\n",
              "            style=\"display:none;\">\n",
              "\n",
              "  <svg xmlns=\"http://www.w3.org/2000/svg\" height=\"24px\"viewBox=\"0 0 24 24\"\n",
              "       width=\"24px\">\n",
              "    <path d=\"M7,19H8.4L18.45,9,17,7.55,7,17.6ZM5,21V16.75L18.45,3.32a2,2,0,0,1,2.83,0l1.4,1.43a1.91,1.91,0,0,1,.58,1.4,1.91,1.91,0,0,1-.58,1.4L9.25,21ZM18.45,9,17,7.55Zm-12,3A5.31,5.31,0,0,0,4.9,8.1,5.31,5.31,0,0,0,1,6.5,5.31,5.31,0,0,0,4.9,4.9,5.31,5.31,0,0,0,6.5,1,5.31,5.31,0,0,0,8.1,4.9,5.31,5.31,0,0,0,12,6.5,5.46,5.46,0,0,0,6.5,12Z\"/>\n",
              "  </svg>\n",
              "    </button>\n",
              "    <script>\n",
              "      (() => {\n",
              "      const buttonEl =\n",
              "        document.querySelector('#id_5c368717-9506-4213-91d2-43d69330786f button.colab-df-generate');\n",
              "      buttonEl.style.display =\n",
              "        google.colab.kernel.accessAllowed ? 'block' : 'none';\n",
              "\n",
              "      buttonEl.onclick = () => {\n",
              "        google.colab.notebook.generateWithVariable('df_features');\n",
              "      }\n",
              "      })();\n",
              "    </script>\n",
              "  </div>\n",
              "\n",
              "    </div>\n",
              "  </div>\n"
            ],
            "application/vnd.google.colaboratory.intrinsic+json": {
              "type": "dataframe",
              "variable_name": "df_features",
              "summary": "{\n  \"name\": \"df_features\",\n  \"rows\": 425,\n  \"fields\": [\n    {\n      \"column\": \"Movie_Genre\",\n      \"properties\": {\n        \"dtype\": \"string\",\n        \"num_unique_values\": 226,\n        \"samples\": [\n          \"Adventure Fantasy Action\",\n          \"Action Comedy Drama Thriller\",\n          \"Romance Comedy Drama\"\n        ],\n        \"semantic_type\": \"\",\n        \"description\": \"\"\n      }\n    },\n    {\n      \"column\": \"Movie_Keywords\",\n      \"properties\": {\n        \"dtype\": \"string\",\n        \"num_unique_values\": 424,\n        \"samples\": [\n          \"detective confession fbi homicide blackmail\",\n          \"drug addiction junkie heroin speed diet\",\n          \"brother brother relationship mississippi wisconsin lawnmower iowa\"\n        ],\n        \"semantic_type\": \"\",\n        \"description\": \"\"\n      }\n    },\n    {\n      \"column\": \"Movie_Tagline\",\n      \"properties\": {\n        \"dtype\": \"string\",\n        \"num_unique_values\": 404,\n        \"samples\": [\n          \"His scars run deep.\",\n          \"With great power comes great responsibility.\",\n          \"Three wonderful loves in the best picture of the year!\"\n        ],\n        \"semantic_type\": \"\",\n        \"description\": \"\"\n      }\n    },\n    {\n      \"column\": \"Movie_Cast\",\n      \"properties\": {\n        \"dtype\": \"string\",\n        \"num_unique_values\": 414,\n        \"samples\": [\n          \"Mike Myers Beyonc\\\\u00e9 Knowles Seth Green Michael York Mindy Sterling\",\n          \"Brad Pitt Morgan Freeman Gwyneth Paltrow John C. McGinley Kevin Spacey\",\n          \"Jude Law Rachel Weisz Ed Harris Joseph Fiennes Bob Hoskins\"\n        ],\n        \"semantic_type\": \"\",\n        \"description\": \"\"\n      }\n    },\n    {\n      \"column\": \"Movie_Director\",\n      \"properties\": {\n        \"dtype\": \"string\",\n        \"num_unique_values\": 242,\n        \"samples\": [\n          \"Tim Burton\",\n          \"Luc Besson\",\n          \"Duncan Tucker\"\n        ],\n        \"semantic_type\": \"\",\n        \"description\": \"\"\n      }\n    }\n  ]\n}"
            }
          },
          "metadata": {},
          "execution_count": 9
        }
      ]
    },
    {
      "cell_type": "code",
      "source": [
        "x=df_features['Movie_Genre']+' '+df_features['Movie_Keywords']+' '+df_features['Movie_Tagline']+' '+df_features['Movie_Cast']+' '+df_features['Movie_Director']"
      ],
      "metadata": {
        "id": "O9zxlN73NvUh",
        "execution": {
          "iopub.status.busy": "2024-07-03T04:38:56.628741Z",
          "iopub.execute_input": "2024-07-03T04:38:56.629186Z",
          "iopub.status.idle": "2024-07-03T04:38:56.646805Z",
          "shell.execute_reply.started": "2024-07-03T04:38:56.629145Z",
          "shell.execute_reply": "2024-07-03T04:38:56.645673Z"
        },
        "trusted": true
      },
      "execution_count": 10,
      "outputs": []
    },
    {
      "cell_type": "code",
      "source": [
        "x"
      ],
      "metadata": {
        "id": "WjKKbpudOhk4",
        "outputId": "8434ed34-188e-45cc-aa5a-cc53a91371fa",
        "execution": {
          "iopub.status.busy": "2024-07-03T04:38:56.651847Z",
          "iopub.execute_input": "2024-07-03T04:38:56.652484Z",
          "iopub.status.idle": "2024-07-03T04:38:56.664022Z",
          "shell.execute_reply.started": "2024-07-03T04:38:56.65244Z",
          "shell.execute_reply": "2024-07-03T04:38:56.662776Z"
        },
        "trusted": true,
        "colab": {
          "base_uri": "https://localhost:8080/"
        }
      },
      "execution_count": 11,
      "outputs": [
        {
          "output_type": "execute_result",
          "data": {
            "text/plain": [
              "0      Crime Comedy hotel new year's eve witch bet ho...\n",
              "1      Adventure Action Science Fiction android galax...\n",
              "2      Animation Family father son relationship harbo...\n",
              "3      Comedy Drama Romance vietnam veteran hippie me...\n",
              "4      Drama male nudity female nudity adultery midli...\n",
              "                             ...                        \n",
              "420    Horror Thriller female nudity nudity mask baby...\n",
              "421    Animation Family Comedy Adventure mammoth slot...\n",
              "422    Comedy crime fighter cook drug dealer dying an...\n",
              "423    Family Animation lion hippopotamus giraffe pen...\n",
              "424    Adventure Action Thriller paris london england...\n",
              "Length: 425, dtype: object"
            ]
          },
          "metadata": {},
          "execution_count": 11
        }
      ]
    },
    {
      "cell_type": "code",
      "source": [
        "x.shape"
      ],
      "metadata": {
        "id": "OEe6eH53OjqL",
        "outputId": "e60cb240-6fa2-492f-8ac0-001f89b17348",
        "execution": {
          "iopub.status.busy": "2024-07-03T04:38:56.665307Z",
          "iopub.execute_input": "2024-07-03T04:38:56.665676Z",
          "iopub.status.idle": "2024-07-03T04:38:56.678949Z",
          "shell.execute_reply.started": "2024-07-03T04:38:56.665629Z",
          "shell.execute_reply": "2024-07-03T04:38:56.677746Z"
        },
        "trusted": true,
        "colab": {
          "base_uri": "https://localhost:8080/"
        }
      },
      "execution_count": 12,
      "outputs": [
        {
          "output_type": "execute_result",
          "data": {
            "text/plain": [
              "(425,)"
            ]
          },
          "metadata": {},
          "execution_count": 12
        }
      ]
    },
    {
      "cell_type": "markdown",
      "source": [
        "### **Get Feature Text conversion to Tokens**"
      ],
      "metadata": {
        "id": "o-JxyBfoOppH"
      }
    },
    {
      "cell_type": "code",
      "source": [
        "from sklearn.feature_extraction.text import TfidfVectorizer"
      ],
      "metadata": {
        "id": "ASBwLDB0OyTj",
        "execution": {
          "iopub.status.busy": "2024-07-03T04:38:56.680482Z",
          "iopub.execute_input": "2024-07-03T04:38:56.681076Z",
          "iopub.status.idle": "2024-07-03T04:38:56.68877Z",
          "shell.execute_reply.started": "2024-07-03T04:38:56.681038Z",
          "shell.execute_reply": "2024-07-03T04:38:56.687576Z"
        },
        "trusted": true
      },
      "execution_count": 13,
      "outputs": []
    },
    {
      "cell_type": "code",
      "source": [
        "tfidf=TfidfVectorizer()"
      ],
      "metadata": {
        "id": "658ObEmYO8jW",
        "execution": {
          "iopub.status.busy": "2024-07-03T04:38:56.690171Z",
          "iopub.execute_input": "2024-07-03T04:38:56.690503Z",
          "iopub.status.idle": "2024-07-03T04:38:56.70441Z",
          "shell.execute_reply.started": "2024-07-03T04:38:56.690474Z",
          "shell.execute_reply": "2024-07-03T04:38:56.702987Z"
        },
        "trusted": true
      },
      "execution_count": 14,
      "outputs": []
    },
    {
      "cell_type": "code",
      "source": [
        "x=tfidf.fit_transform(x)"
      ],
      "metadata": {
        "id": "Nl5FjD6gPHe7",
        "execution": {
          "iopub.status.busy": "2024-07-03T04:38:56.706034Z",
          "iopub.execute_input": "2024-07-03T04:38:56.706411Z",
          "iopub.status.idle": "2024-07-03T04:38:56.894885Z",
          "shell.execute_reply.started": "2024-07-03T04:38:56.706379Z",
          "shell.execute_reply": "2024-07-03T04:38:56.893739Z"
        },
        "trusted": true
      },
      "execution_count": 15,
      "outputs": []
    },
    {
      "cell_type": "code",
      "source": [
        "x.shape"
      ],
      "metadata": {
        "id": "njaWCUx_PPxa",
        "outputId": "187ad3e5-c03f-4dc1-9beb-e25f7632383a",
        "execution": {
          "iopub.status.busy": "2024-07-03T04:38:56.896579Z",
          "iopub.execute_input": "2024-07-03T04:38:56.897003Z",
          "iopub.status.idle": "2024-07-03T04:38:56.904157Z",
          "shell.execute_reply.started": "2024-07-03T04:38:56.896969Z",
          "shell.execute_reply": "2024-07-03T04:38:56.902811Z"
        },
        "trusted": true,
        "colab": {
          "base_uri": "https://localhost:8080/"
        }
      },
      "execution_count": 16,
      "outputs": [
        {
          "output_type": "execute_result",
          "data": {
            "text/plain": [
              "(425, 4240)"
            ]
          },
          "metadata": {},
          "execution_count": 16
        }
      ]
    },
    {
      "cell_type": "code",
      "source": [
        "print(x)"
      ],
      "metadata": {
        "id": "qESlggESPV03",
        "outputId": "d0b2841a-f48b-45da-a305-b5ea744fc856",
        "execution": {
          "iopub.status.busy": "2024-07-03T04:38:56.905938Z",
          "iopub.execute_input": "2024-07-03T04:38:56.906417Z",
          "iopub.status.idle": "2024-07-03T04:38:56.917297Z",
          "shell.execute_reply.started": "2024-07-03T04:38:56.906374Z",
          "shell.execute_reply": "2024-07-03T04:38:56.91619Z"
        },
        "trusted": true,
        "colab": {
          "base_uri": "https://localhost:8080/"
        }
      },
      "execution_count": 17,
      "outputs": [
        {
          "output_type": "stream",
          "name": "stdout",
          "text": [
            "  (0, 127)\t0.1672090120132036\n",
            "  (0, 103)\t0.1672090120132036\n",
            "  (0, 3764)\t0.1672090120132036\n",
            "  (0, 2380)\t0.1672090120132036\n",
            "  (0, 2332)\t0.1672090120132036\n",
            "  (0, 301)\t0.1565512056483183\n",
            "  (0, 1915)\t0.1342796553994632\n",
            "  (0, 266)\t0.14312395759306187\n",
            "  (0, 164)\t0.14312395759306187\n",
            "  (0, 3185)\t0.14898937169139476\n",
            "  (0, 3743)\t0.10540220871276905\n",
            "  (0, 2215)\t0.08846503662763536\n",
            "  (0, 2727)\t0.060935853918451556\n",
            "  (0, 4115)\t0.1672090120132036\n",
            "  (0, 1345)\t0.09602687058455887\n",
            "  (0, 4100)\t0.11606001507765436\n",
            "  (0, 1935)\t0.14312395759306187\n",
            "  (0, 3703)\t0.09874313029471359\n",
            "  (0, 2748)\t0.08106800186093915\n",
            "  (0, 942)\t0.13076973136958592\n",
            "  (0, 1317)\t0.11424651090636771\n",
            "  (0, 1725)\t0.20602196104447124\n",
            "  (0, 1827)\t0.14530455043423893\n",
            "  (0, 333)\t0.1672090120132036\n",
            "  (0, 2257)\t0.1565512056483183\n",
            "  :\t:\n",
            "  (423, 3442)\t0.16000679847063223\n",
            "  (423, 697)\t0.1484086444322044\n",
            "  (423, 936)\t0.12272815875142952\n",
            "  (423, 1243)\t0.10991995927170993\n",
            "  (423, 148)\t0.1446535633789776\n",
            "  (424, 894)\t0.2930287394494673\n",
            "  (424, 3877)\t0.2930287394494673\n",
            "  (424, 1825)\t0.2930287394494673\n",
            "  (424, 1218)\t0.2743512559406703\n",
            "  (424, 4003)\t0.2743512559406703\n",
            "  (424, 1164)\t0.2743512559406703\n",
            "  (424, 711)\t0.2508204095793724\n",
            "  (424, 1949)\t0.2508204095793724\n",
            "  (424, 1692)\t0.24242188698835118\n",
            "  (424, 3508)\t0.21889104062705336\n",
            "  (424, 2256)\t0.16984584084500393\n",
            "  (424, 3691)\t0.2610993704971482\n",
            "  (424, 2819)\t0.2145006398849977\n",
            "  (424, 871)\t0.2145006398849977\n",
            "  (424, 1174)\t0.16677374654522595\n",
            "  (424, 3734)\t0.1018138165464154\n",
            "  (424, 3763)\t0.16531126364019097\n",
            "  (424, 33)\t0.10404317136820909\n",
            "  (424, 52)\t0.10598710294036577\n",
            "  (424, 3703)\t0.08652217560280069\n"
          ]
        }
      ]
    },
    {
      "cell_type": "markdown",
      "source": [
        "### **Get Similarity Score using Cosine Similarity**"
      ],
      "metadata": {
        "id": "YTx_fpzWPhw6"
      }
    },
    {
      "cell_type": "markdown",
      "source": [
        "#### cosine_similarity computes the L2-normalized dot product of vectors. Euclidean(L2) normalization projects the vectors onto the unit sphere and their dot product is then the cosine of the angle between the points denoted by the vectors."
      ],
      "metadata": {
        "id": "bA8CspjhPsMV"
      }
    },
    {
      "cell_type": "code",
      "source": [
        "from sklearn.metrics.pairwise import cosine_similarity"
      ],
      "metadata": {
        "id": "nQ6SsMwpQ2p_",
        "execution": {
          "iopub.status.busy": "2024-07-03T04:38:56.918745Z",
          "iopub.execute_input": "2024-07-03T04:38:56.91909Z",
          "iopub.status.idle": "2024-07-03T04:38:56.92814Z",
          "shell.execute_reply.started": "2024-07-03T04:38:56.91906Z",
          "shell.execute_reply": "2024-07-03T04:38:56.926983Z"
        },
        "trusted": true
      },
      "execution_count": 18,
      "outputs": []
    },
    {
      "cell_type": "code",
      "source": [
        "Similarity_Score=cosine_similarity(x)"
      ],
      "metadata": {
        "id": "CNavv_3eRBfh",
        "execution": {
          "iopub.status.busy": "2024-07-03T04:38:56.929517Z",
          "iopub.execute_input": "2024-07-03T04:38:56.929988Z",
          "iopub.status.idle": "2024-07-03T04:38:57.746806Z",
          "shell.execute_reply.started": "2024-07-03T04:38:56.929956Z",
          "shell.execute_reply": "2024-07-03T04:38:57.74588Z"
        },
        "trusted": true
      },
      "execution_count": 19,
      "outputs": []
    },
    {
      "cell_type": "code",
      "source": [
        "Similarity_Score"
      ],
      "metadata": {
        "id": "9_RFJBGCRLDh",
        "outputId": "4887de56-9aae-4af5-ec0d-04c26b6d5b4e",
        "execution": {
          "iopub.status.busy": "2024-07-03T04:38:57.748019Z",
          "iopub.execute_input": "2024-07-03T04:38:57.748332Z",
          "iopub.status.idle": "2024-07-03T04:38:57.755874Z",
          "shell.execute_reply.started": "2024-07-03T04:38:57.748305Z",
          "shell.execute_reply": "2024-07-03T04:38:57.754636Z"
        },
        "trusted": true,
        "colab": {
          "base_uri": "https://localhost:8080/"
        }
      },
      "execution_count": 20,
      "outputs": [
        {
          "output_type": "execute_result",
          "data": {
            "text/plain": [
              "array([[1.        , 0.01333813, 0.03900162, ..., 0.01804607, 0.        ,\n",
              "        0.00854347],\n",
              "       [0.01333813, 1.        , 0.00791895, ..., 0.01833343, 0.        ,\n",
              "        0.01590329],\n",
              "       [0.03900162, 0.00791895, 1.        , ..., 0.        , 0.02890563,\n",
              "        0.00507233],\n",
              "       ...,\n",
              "       [0.01804607, 0.01833343, 0.        , ..., 1.        , 0.        ,\n",
              "        0.        ],\n",
              "       [0.        , 0.        , 0.02890563, ..., 0.        , 1.        ,\n",
              "        0.        ],\n",
              "       [0.00854347, 0.01590329, 0.00507233, ..., 0.        , 0.        ,\n",
              "        1.        ]])"
            ]
          },
          "metadata": {},
          "execution_count": 20
        }
      ]
    },
    {
      "cell_type": "code",
      "source": [
        "Similarity_Score.shape"
      ],
      "metadata": {
        "id": "uUOQ0Dx9ROzD",
        "outputId": "827fd26e-15ef-4408-cbcd-997a7d00b759",
        "execution": {
          "iopub.status.busy": "2024-07-03T04:38:57.757167Z",
          "iopub.execute_input": "2024-07-03T04:38:57.757453Z",
          "iopub.status.idle": "2024-07-03T04:38:57.77135Z",
          "shell.execute_reply.started": "2024-07-03T04:38:57.757428Z",
          "shell.execute_reply": "2024-07-03T04:38:57.769914Z"
        },
        "trusted": true,
        "colab": {
          "base_uri": "https://localhost:8080/"
        }
      },
      "execution_count": 21,
      "outputs": [
        {
          "output_type": "execute_result",
          "data": {
            "text/plain": [
              "(425, 425)"
            ]
          },
          "metadata": {},
          "execution_count": 21
        }
      ]
    },
    {
      "cell_type": "markdown",
      "source": [
        "### **Get Movie Name as Input from User and Validate fir Closest Spelling**"
      ],
      "metadata": {
        "id": "wDWKiOgURX7d"
      }
    },
    {
      "cell_type": "code",
      "source": [
        "Favourite_Movie_Name=input('Enter your favourite movie name :')"
      ],
      "metadata": {
        "id": "TAebMXhYRyE1",
        "outputId": "9c49229d-3747-4807-c625-69e507f529fa",
        "execution": {
          "iopub.status.busy": "2024-07-03T04:38:57.772656Z",
          "iopub.execute_input": "2024-07-03T04:38:57.773051Z",
          "iopub.status.idle": "2024-07-03T04:39:06.922005Z",
          "shell.execute_reply.started": "2024-07-03T04:38:57.773015Z",
          "shell.execute_reply": "2024-07-03T04:39:06.920774Z"
        },
        "trusted": true,
        "colab": {
          "base_uri": "https://localhost:8080/"
        }
      },
      "execution_count": 22,
      "outputs": [
        {
          "name": "stdout",
          "output_type": "stream",
          "text": [
            "Enter your favourite movie name :the dark knight\n"
          ]
        }
      ]
    },
    {
      "cell_type": "code",
      "source": [
        "All_Movies_Title_List=df['Movie_Title'].tolist()"
      ],
      "metadata": {
        "id": "NOqVYhpDR8BB",
        "execution": {
          "iopub.status.busy": "2024-07-03T04:39:06.923477Z",
          "iopub.execute_input": "2024-07-03T04:39:06.923869Z",
          "iopub.status.idle": "2024-07-03T04:39:06.929247Z",
          "shell.execute_reply.started": "2024-07-03T04:39:06.923837Z",
          "shell.execute_reply": "2024-07-03T04:39:06.927902Z"
        },
        "trusted": true
      },
      "execution_count": 23,
      "outputs": []
    },
    {
      "cell_type": "code",
      "source": [
        "import difflib"
      ],
      "metadata": {
        "id": "G_eLO8vZSJqC",
        "execution": {
          "iopub.status.busy": "2024-07-03T04:39:06.931015Z",
          "iopub.execute_input": "2024-07-03T04:39:06.93146Z",
          "iopub.status.idle": "2024-07-03T04:39:06.946278Z",
          "shell.execute_reply.started": "2024-07-03T04:39:06.931417Z",
          "shell.execute_reply": "2024-07-03T04:39:06.945091Z"
        },
        "trusted": true
      },
      "execution_count": 24,
      "outputs": []
    },
    {
      "cell_type": "code",
      "source": [
        "Movie_Recommendation=difflib.get_close_matches(Favourite_Movie_Name,All_Movies_Title_List)\n",
        "print(Movie_Recommendation)"
      ],
      "metadata": {
        "id": "9OMb6c8QSM-I",
        "outputId": "8c11ef6b-47d2-4888-d922-117cd61974da",
        "execution": {
          "iopub.status.busy": "2024-07-03T04:39:06.948206Z",
          "iopub.execute_input": "2024-07-03T04:39:06.948581Z",
          "iopub.status.idle": "2024-07-03T04:39:06.995614Z",
          "shell.execute_reply.started": "2024-07-03T04:39:06.948546Z",
          "shell.execute_reply": "2024-07-03T04:39:06.994236Z"
        },
        "trusted": true,
        "colab": {
          "base_uri": "https://localhost:8080/"
        }
      },
      "execution_count": 25,
      "outputs": [
        {
          "output_type": "stream",
          "name": "stdout",
          "text": [
            "['The Dark Knight']\n"
          ]
        }
      ]
    },
    {
      "cell_type": "code",
      "source": [
        "Close_Match=Movie_Recommendation[0]\n",
        "print(Close_Match)"
      ],
      "metadata": {
        "id": "n3P1b878SkQM",
        "outputId": "9cea938d-fd75-4d16-893d-2ff67e877734",
        "execution": {
          "iopub.status.busy": "2024-07-03T04:39:06.997337Z",
          "iopub.execute_input": "2024-07-03T04:39:06.997761Z",
          "iopub.status.idle": "2024-07-03T04:39:07.003293Z",
          "shell.execute_reply.started": "2024-07-03T04:39:06.997718Z",
          "shell.execute_reply": "2024-07-03T04:39:07.001993Z"
        },
        "trusted": true,
        "colab": {
          "base_uri": "https://localhost:8080/"
        }
      },
      "execution_count": 26,
      "outputs": [
        {
          "output_type": "stream",
          "name": "stdout",
          "text": [
            "The Dark Knight\n"
          ]
        }
      ]
    },
    {
      "cell_type": "code",
      "source": [
        "Index_of_Close_Match_Movie=df[df.Movie_Title==Close_Match]['Movie_ID'].values[0]\n",
        "print(Index_of_Close_Match_Movie)"
      ],
      "metadata": {
        "id": "jvzQYMSnTI7C",
        "outputId": "ce7aff2e-6cd4-47bf-f19f-471aaff44bb7",
        "execution": {
          "iopub.status.busy": "2024-07-03T04:39:07.004582Z",
          "iopub.execute_input": "2024-07-03T04:39:07.005056Z",
          "iopub.status.idle": "2024-07-03T04:39:07.020203Z",
          "shell.execute_reply.started": "2024-07-03T04:39:07.005012Z",
          "shell.execute_reply": "2024-07-03T04:39:07.0189Z"
        },
        "trusted": true,
        "colab": {
          "base_uri": "https://localhost:8080/"
        }
      },
      "execution_count": 27,
      "outputs": [
        {
          "output_type": "stream",
          "name": "stdout",
          "text": [
            "69\n"
          ]
        }
      ]
    },
    {
      "cell_type": "code",
      "source": [
        "Recommendation_Score=list(enumerate(Similarity_Score[Index_of_Close_Match_Movie]))"
      ],
      "metadata": {
        "id": "riFA3CdkTij0",
        "execution": {
          "iopub.status.busy": "2024-07-03T04:39:07.021336Z",
          "iopub.execute_input": "2024-07-03T04:39:07.021715Z",
          "iopub.status.idle": "2024-07-03T04:39:07.035232Z",
          "shell.execute_reply.started": "2024-07-03T04:39:07.021684Z",
          "shell.execute_reply": "2024-07-03T04:39:07.033964Z"
        },
        "trusted": true
      },
      "execution_count": 28,
      "outputs": []
    },
    {
      "cell_type": "code",
      "source": [
        "len(Recommendation_Score)"
      ],
      "metadata": {
        "id": "oFTbvRdlT8Sp",
        "outputId": "5ba8ab24-afee-46db-fa7f-6a07da417240",
        "execution": {
          "iopub.status.busy": "2024-07-03T04:39:07.040863Z",
          "iopub.execute_input": "2024-07-03T04:39:07.041743Z",
          "iopub.status.idle": "2024-07-03T04:39:07.052081Z",
          "shell.execute_reply.started": "2024-07-03T04:39:07.041705Z",
          "shell.execute_reply": "2024-07-03T04:39:07.05074Z"
        },
        "trusted": true,
        "colab": {
          "base_uri": "https://localhost:8080/"
        }
      },
      "execution_count": 29,
      "outputs": [
        {
          "output_type": "execute_result",
          "data": {
            "text/plain": [
              "425"
            ]
          },
          "metadata": {},
          "execution_count": 29
        }
      ]
    },
    {
      "cell_type": "markdown",
      "source": [
        "### **Get All Movies Sort Based on Recommendation Score wrt Favourite Movie**"
      ],
      "metadata": {
        "id": "7m5WTr7hUEP9"
      }
    },
    {
      "cell_type": "code",
      "source": [
        "Sorted_Similar_movies=sorted(Recommendation_Score,key=lambda x:x[1],reverse=True)"
      ],
      "metadata": {
        "id": "AHmzgv3hURUv",
        "execution": {
          "iopub.status.busy": "2024-07-03T04:39:07.053449Z",
          "iopub.execute_input": "2024-07-03T04:39:07.054879Z",
          "iopub.status.idle": "2024-07-03T04:39:07.068449Z",
          "shell.execute_reply.started": "2024-07-03T04:39:07.054839Z",
          "shell.execute_reply": "2024-07-03T04:39:07.066785Z"
        },
        "trusted": true
      },
      "execution_count": 30,
      "outputs": []
    },
    {
      "cell_type": "code",
      "source": [
        "print('Top 30 Movies Suggested for You : \\n')\n",
        "i=1\n",
        "for movie in Sorted_Similar_movies:\n",
        "  index=movie[0]\n",
        "  title_from_index=df[df.index==index]['Movie_Title'].values[0]\n",
        "  if(i<31):\n",
        "    print(i,'.',title_from_index)\n",
        "    i+=1"
      ],
      "metadata": {
        "id": "vZaMBH_8Ui_v",
        "outputId": "8ba17d76-7833-4dce-9054-4989e9ade75d",
        "execution": {
          "iopub.status.busy": "2024-07-03T04:39:07.070305Z",
          "iopub.execute_input": "2024-07-03T04:39:07.070994Z",
          "iopub.status.idle": "2024-07-03T04:39:08.315328Z",
          "shell.execute_reply.started": "2024-07-03T04:39:07.070953Z",
          "shell.execute_reply": "2024-07-03T04:39:08.314101Z"
        },
        "trusted": true,
        "colab": {
          "base_uri": "https://localhost:8080/"
        }
      },
      "execution_count": 31,
      "outputs": [
        {
          "output_type": "stream",
          "name": "stdout",
          "text": [
            "Top 30 Movies Suggested for You : \n",
            "\n",
            "1 . Star Trek III: The Search for Spock\n",
            "2 . Star Trek IV: The Voyage Home\n",
            "3 . Star Trek V: The Final Frontier\n",
            "4 . Star Trek: The Motion Picture\n",
            "5 . Star Trek VI: The Undiscovered Country\n",
            "6 . Star Trek II: The Wrath of Khan\n",
            "7 . The X Files\n",
            "8 . Star Trek: Generations\n",
            "9 . Troy\n",
            "10 . Men in Black II\n",
            "11 . Aliens\n",
            "12 . Dead Poets Society\n",
            "13 . Jurassic Park III\n",
            "14 . Mars Attacks!\n",
            "15 . Star Trek: Insurrection\n",
            "16 . Cube\n",
            "17 . 2001: A Space Odyssey\n",
            "18 . A History of Violence\n",
            "19 . The Terminator\n",
            "20 . Terminator 2: Judgment Day\n",
            "21 . Live and Let Die\n",
            "22 . Diamonds Are Forever\n",
            "23 . Star Wars\n",
            "24 . Total Recall\n",
            "25 . On Her Majesty's Secret Service\n",
            "26 . Spider-Man 3\n",
            "27 . Spider-Man 2\n",
            "28 . Gattaca\n",
            "29 . Star Trek: Nemesis\n",
            "30 . The Chronicles of Narnia: The Lion, the Witch and the Wardrobe\n"
          ]
        }
      ]
    },
    {
      "cell_type": "markdown",
      "source": [
        "### **Top 10 Movie Recommendation System**"
      ],
      "metadata": {
        "id": "Tc_GSA6DVbJh"
      }
    },
    {
      "cell_type": "code",
      "source": [
        "Movie_Name=input('Enter your favourite movie name :')\n",
        "list_of_all_titles=df['Movie_Title'].tolist()\n",
        "Find_Close_Match=difflib.get_close_matches(Movie_Name,list_of_all_titles)\n",
        "Close_Match=Find_Close_Match[0]\n",
        "Index_of_Movie=df[df.Movie_Title==Close_Match]['Movie_ID'].values[0]\n",
        "Recommendation_Score=list(enumerate(Similarity_Score[Index_of_Movie]))\n",
        "sorted_similar_movies=sorted(Recommendation_Score,key=lambda x:x[1],reverse=True)\n",
        "print('Top 10 Movies suggested for you :\\n')\n",
        "i=1\n",
        "for movie in sorted_similar_movies:\n",
        "  index=movie[0]\n",
        "  title_from_index=df[df.Movie_ID==index]['Movie_Title'].values\n",
        "  if(i<11):\n",
        "    print(i,'.',title_from_index)\n",
        "    i+=1"
      ],
      "metadata": {
        "id": "j9uU7bL9VieF",
        "outputId": "7716fe63-7e1d-4078-a9d7-d156ce7f0acf",
        "execution": {
          "iopub.status.busy": "2024-07-03T04:39:08.316938Z",
          "iopub.execute_input": "2024-07-03T04:39:08.317297Z",
          "iopub.status.idle": "2024-07-03T04:39:17.377934Z",
          "shell.execute_reply.started": "2024-07-03T04:39:08.317265Z",
          "shell.execute_reply": "2024-07-03T04:39:17.376688Z"
        },
        "trusted": true,
        "colab": {
          "base_uri": "https://localhost:8080/"
        }
      },
      "execution_count": 32,
      "outputs": [
        {
          "output_type": "stream",
          "name": "stdout",
          "text": [
            "Enter your favourite movie name :batman begins\n",
            "Top 10 Movies suggested for you :\n",
            "\n",
            "1 . ['Batman Begins']\n",
            "2 . ['Apollo 13']\n",
            "3 . ['Saw III']\n",
            "4 . ['Flashdance']\n",
            "5 . ['Poseidon']\n",
            "6 . ['The Man with the Golden Gun']\n",
            "7 . ['Tomorrow Never Dies']\n",
            "8 . [\"Dave Chappelle's Block Party\"]\n",
            "9 . ['Syriana']\n",
            "10 . ['Absolute Power']\n"
          ]
        }
      ]
    }
  ]
}